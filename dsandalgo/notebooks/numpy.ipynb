{
 "cells": [
  {
   "cell_type": "code",
   "execution_count": 1,
   "id": "42cf5936-82cd-45db-90e7-addd58dfb72c",
   "metadata": {},
   "outputs": [],
   "source": [
    "import numpy as np"
   ]
  },
  {
   "cell_type": "code",
   "execution_count": 18,
   "id": "1f3f5998-1103-4d97-8670-a7ff3010f3e0",
   "metadata": {},
   "outputs": [],
   "source": [
    "X = np.random.uniform(0.1,1,(100,4))"
   ]
  },
  {
   "cell_type": "code",
   "execution_count": 16,
   "id": "7de648b4-554b-4f27-9dba-17af28590d1f",
   "metadata": {},
   "outputs": [],
   "source": [
    "y = np.random.choice(3,100)"
   ]
  },
  {
   "cell_type": "code",
   "execution_count": 17,
   "id": "c8430dee-30c6-4961-971f-2405537d19e9",
   "metadata": {},
   "outputs": [
    {
     "data": {
      "text/plain": [
       "array([2, 1, 2, 0, 1, 2, 2, 1, 0, 1, 0, 0, 0, 1, 0, 0, 2, 0, 0, 2, 2, 1,\n",
       "       2, 2, 2, 0, 2, 2, 2, 1, 2, 1, 0, 1, 2, 1, 0, 1, 2, 0, 1, 2, 2, 0,\n",
       "       0, 1, 0, 0, 1, 0, 0, 0, 1, 0, 2, 2, 1, 2, 1, 0, 2, 0, 0, 0, 1, 0,\n",
       "       2, 0, 0, 2, 0, 0, 1, 2, 2, 2, 1, 1, 0, 0, 0, 0, 2, 2, 1, 2, 1, 1,\n",
       "       0, 1, 2, 2, 1, 1, 1, 0, 2, 0, 1, 0])"
      ]
     },
     "execution_count": 17,
     "metadata": {},
     "output_type": "execute_result"
    }
   ],
   "source": [
    "y"
   ]
  },
  {
   "cell_type": "code",
   "execution_count": null,
   "id": "0d9efbcb-56fc-4c40-9ba1-864d2aec9275",
   "metadata": {},
   "outputs": [],
   "source": []
  }
 ],
 "metadata": {
  "kernelspec": {
   "display_name": "Python 3",
   "language": "python",
   "name": "python3"
  },
  "language_info": {
   "codemirror_mode": {
    "name": "ipython",
    "version": 3
   },
   "file_extension": ".py",
   "mimetype": "text/x-python",
   "name": "python",
   "nbconvert_exporter": "python",
   "pygments_lexer": "ipython3",
   "version": "3.9.12"
  }
 },
 "nbformat": 4,
 "nbformat_minor": 5
}
